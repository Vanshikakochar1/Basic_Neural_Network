{
  "cells": [
    {
      "cell_type": "code",
      "execution_count": null,
      "metadata": {
        "id": "0HWGRajz-wt2"
      },
      "outputs": [],
      "source": [
        "from cmath import exp\n",
        "import numpy as np\n",
        "class NeuralNetwork():\n",
        "    def __init__(self):\n",
        "        # seeding for random number generation\n",
        "        np.random.seed(1)\n",
        "        #converting weights to a 3 by 1 matrix with values from -1 to 1 and mean of 0\n",
        "        self.synaptic_weights = 2 * np.random.random((4, 1)) - 1\n",
        "    def sigmoid(self,x):\n",
        "        return 1 / (1 + np.exp(-x))\n",
        "    def sigmoid_derivative(self, x):\n",
        "    #computing derivative to the Sigmoid function\n",
        "        return x * (1 - x)\n",
        "    def train(self, training_inputs, training_outputs, training_iterations):\n",
        "    #training the model to make accurate predictions while adjusting weights continually\n",
        "        for iteration in range(training_iterations):\n",
        "        #siphon the training data via the neuron\n",
        "            output = self.think(training_inputs)\n",
        "        #computing error rate for back-propagation\n",
        "            error = training_outputs - output\n",
        "        #performing weight adjustments\n",
        "            adjustments = np.dot(training_inputs.T, error * self.sigmoid_derivative(output))\n",
        "            self.synaptic_weights += adjustments\n",
        "    def think(self, inputs):\n",
        "        inputs = inputs.astype(float)\n",
        "        output = self.sigmoid(np.dot(inputs, self.synaptic_weights))\n",
        "        return output\n",
        "   \n",
        "  "
      ]
    },
    {
      "cell_type": "code",
      "execution_count": 1,
      "metadata": {
        "id": "GZz5HURK-4Eb"
      },
      "outputs": [],
      "source": [
        "# def sigmoid(self,x):\n",
        "#applying the sigmoid function\n",
        "\n",
        "        # return 1 / (1 + np.exp(-x))\n"
      ]
    },
    {
      "cell_type": "code",
      "execution_count": null,
      "metadata": {
        "colab": {
          "base_uri": "https://localhost:8080/"
        },
        "id": "gSuEj3SV-6tl",
        "outputId": "ae61fdeb-14c4-459c-9908-32235d117c64"
      },
      "outputs": [
        {
          "output_type": "stream",
          "name": "stdout",
          "text": [
            "Beginning Randomly Generated Weights: \n",
            "[[-0.16595599]\n",
            " [ 0.44064899]\n",
            " [-0.99977125]\n",
            " [-0.39533485]]\n",
            "Ending Weights After Training: \n",
            "[[-2.04931186]\n",
            " [-2.04774907]\n",
            " [-2.05087743]\n",
            " [ 6.14793836]]\n"
          ]
        }
      ],
      "source": [
        "neural_network = NeuralNetwork()\n",
        "print(\"Beginning Randomly Generated Weights: \")\n",
        "print(neural_network.synaptic_weights)\n",
        "if 1:\n",
        "    training_inputs = np.array([[0,0,0,0],\n",
        "                                [0,0,1,1],\n",
        "                                [0,1,0,1],\n",
        "                                [0,1,1,0],\n",
        "                                [1,0,0,1],\n",
        "                                [1,0,1,0],\n",
        "                                [1,1,0,0]])\n",
        "    training_outputs = np.array([[0,1,1,0,1,0,0]]).T\n",
        "    neural_network.train(training_inputs, training_outputs, 1000)\n",
        "    print(\"Ending Weights After Training: \")\n",
        "    print(neural_network.synaptic_weights)"
      ]
    },
    {
      "cell_type": "code",
      "execution_count": null,
      "metadata": {
        "colab": {
          "base_uri": "https://localhost:8080/"
        },
        "id": "0pWoFzDQ--2T",
        "outputId": "c5606162-7d60-46f9-908b-854bf7e5a209"
      },
      "outputs": [
        {
          "name": "stdout",
          "output_type": "stream",
          "text": [
            "User Input One: 1\n",
            "User Input Two: 1\n",
            "User Input Three: 1\n",
            "User Input Four: 1\n"
          ]
        }
      ],
      "source": [
        "user_input_one =str(input(\"User Input One: \"))\n",
        "user_input_two = str(input(\"User Input Two: \"))\n",
        "user_input_three = str(input(\"User Input Three: \"))\n",
        "user_input_four = str(input(\"User Input Four: \"))"
      ]
    },
    {
      "cell_type": "code",
      "execution_count": null,
      "metadata": {
        "colab": {
          "base_uri": "https://localhost:8080/"
        },
        "id": "QHvK0Izh_BVF",
        "outputId": "12386cb0-2347-4a8b-8889-43fe4f93afb9"
      },
      "outputs": [
        {
          "output_type": "stream",
          "name": "stdout",
          "text": [
            "Considering New Situation:  1 1 1 1\n",
            "New Output data: \n",
            "[0.5]\n",
            "cheers\n"
          ]
        }
      ],
      "source": [
        "print(\"Considering New Situation: \", user_input_one,user_input_two,user_input_three,user_input_four)\n",
        "print(\"New Output data: \")\n",
        "   \n",
        "output = np.array([user_input_one,user_input_two,user_input_three,user_input_four])\n",
        "print (neural_network.think(output))\n",
        "\n",
        "print(\"cheers\")\n"
      ]
    },
    {
      "cell_type": "code",
      "source": [],
      "metadata": {
        "id": "0hDTXKeLLOte"
      },
      "execution_count": null,
      "outputs": []
    }
  ],
  "metadata": {
    "colab": {
      "provenance": []
    },
    "kernelspec": {
      "display_name": "Python 3",
      "name": "python3"
    },
    "language_info": {
      "name": "python"
    }
  },
  "nbformat": 4,
  "nbformat_minor": 0
}